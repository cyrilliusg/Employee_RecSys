{
 "cells": [
  {
   "cell_type": "code",
   "execution_count": 71,
   "id": "b9a869f6",
   "metadata": {},
   "outputs": [],
   "source": [
    "!pip install pyqt5 -q\n",
    "!pip install pyqtwebengine -q\n",
    "!pip install navec solvent -q\n",
    "from navec import Navec\n",
    "import pandas as pd\n",
    "import torch\n",
    "import numpy as np\n",
    "#from slovnet.model.emb import NavecEmbedding"
   ]
  },
  {
   "cell_type": "code",
   "execution_count": 7,
   "id": "76598ab0",
   "metadata": {
    "scrolled": true
   },
   "outputs": [
    {
     "name": "stdout",
     "output_type": "stream",
     "text": [
      "--2024-02-20 20:43:33--  https://storage.yandexcloud.net/natasha-navec/packs/navec_hudlit_v1_12B_500K_300d_100q.tar\n",
      "Распознаётся storage.yandexcloud.net (storage.yandexcloud.net)… 213.180.193.243, 2a02:6b8::1d9\n",
      "Подключение к storage.yandexcloud.net (storage.yandexcloud.net)|213.180.193.243|:443... соединение установлено.\n",
      "HTTP-запрос отправлен. Ожидание ответа… 200 OK\n",
      "Длина: 53012480 (51M) [application/x-tar]\n",
      "Сохранение в: ‘navec_hudlit_v1_12B_500K_300d_100q.tar’\n",
      "\n",
      "navec_hudlit_v1_12B 100%[===================>]  50,56M  10,7MB/s    за 4,7s    \n",
      "\n",
      "2024-02-20 20:43:38 (10,7 MB/s) - ‘navec_hudlit_v1_12B_500K_300d_100q.tar’ сохранён [53012480/53012480]\n",
      "\n"
     ]
    }
   ],
   "source": [
    "#!wget https://storage.yandexcloud.net/natasha-navec/packs/navec_hudlit_v1_12B_500K_300d_100q.tar"
   ]
  },
  {
   "cell_type": "code",
   "execution_count": 39,
   "id": "7859be55",
   "metadata": {},
   "outputs": [],
   "source": [
    "path = 'navec_hudlit_v1_12B_500K_300d_100q.tar'\n",
    "navec = Navec.load(path)"
   ]
  },
  {
   "cell_type": "code",
   "execution_count": 199,
   "id": "352fa240",
   "metadata": {},
   "outputs": [],
   "source": [
    "path = '/home/daniil/Рабочий стол/CLASSIFICATION PROBLEM/JobMatchRecommenderSystem/Scripts/Ready_to_use_data'\n",
    "df = pd.read_csv(path)\n",
    "df = df.iloc[np.where((df.department != ' ') & (df.unit != ' '))]\n",
    "df.full_description = df.department + ' ' + df.unit + ' ' + df.job_name"
   ]
  },
  {
   "cell_type": "code",
   "execution_count": 200,
   "id": "186cb606",
   "metadata": {},
   "outputs": [],
   "source": [
    "df = df[['func_1','full_description']]"
   ]
  },
  {
   "cell_type": "code",
   "execution_count": 201,
   "id": "24e135a3",
   "metadata": {},
   "outputs": [
    {
     "data": {
      "text/html": [
       "<div>\n",
       "<style scoped>\n",
       "    .dataframe tbody tr th:only-of-type {\n",
       "        vertical-align: middle;\n",
       "    }\n",
       "\n",
       "    .dataframe tbody tr th {\n",
       "        vertical-align: top;\n",
       "    }\n",
       "\n",
       "    .dataframe thead th {\n",
       "        text-align: right;\n",
       "    }\n",
       "</style>\n",
       "<table border=\"1\" class=\"dataframe\">\n",
       "  <thead>\n",
       "    <tr style=\"text-align: right;\">\n",
       "      <th></th>\n",
       "      <th>func_1</th>\n",
       "      <th>full_description</th>\n",
       "    </tr>\n",
       "  </thead>\n",
       "  <tbody>\n",
       "    <tr>\n",
       "      <th>0</th>\n",
       "      <td>Маркетинг</td>\n",
       "      <td>маркетинг дизайн и онлайн продажи департамент ...</td>\n",
       "    </tr>\n",
       "    <tr>\n",
       "      <th>1</th>\n",
       "      <td>Инвестиционная деятельность</td>\n",
       "      <td>управление крупным частным капиталом департаме...</td>\n",
       "    </tr>\n",
       "    <tr>\n",
       "      <th>2</th>\n",
       "      <td>Корпоративный бизнес</td>\n",
       "      <td>крупный корпоративный и инвестиционный бизнес ...</td>\n",
       "    </tr>\n",
       "    <tr>\n",
       "      <th>3</th>\n",
       "      <td>Управление рисками</td>\n",
       "      <td>управление рисками департамент рисков рознично...</td>\n",
       "    </tr>\n",
       "    <tr>\n",
       "      <th>4</th>\n",
       "      <td>Корпоративный бизнес</td>\n",
       "      <td>малый и микро корпоративный бизнес департамент...</td>\n",
       "    </tr>\n",
       "  </tbody>\n",
       "</table>\n",
       "</div>"
      ],
      "text/plain": [
       "                        func_1  \\\n",
       "0                    Маркетинг   \n",
       "1  Инвестиционная деятельность   \n",
       "2         Корпоративный бизнес   \n",
       "3           Управление рисками   \n",
       "4         Корпоративный бизнес   \n",
       "\n",
       "                                    full_description  \n",
       "0  маркетинг дизайн и онлайн продажи департамент ...  \n",
       "1  управление крупным частным капиталом департаме...  \n",
       "2  крупный корпоративный и инвестиционный бизнес ...  \n",
       "3  управление рисками департамент рисков рознично...  \n",
       "4  малый и микро корпоративный бизнес департамент...  "
      ]
     },
     "execution_count": 201,
     "metadata": {},
     "output_type": "execute_result"
    }
   ],
   "source": [
    "df.head()"
   ]
  },
  {
   "cell_type": "code",
   "execution_count": 202,
   "id": "c306c77f",
   "metadata": {
    "scrolled": true
   },
   "outputs": [
    {
     "name": "stdout",
     "output_type": "stream",
     "text": [
      "20.79141515761234\n"
     ]
    }
   ],
   "source": [
    "#Проверим, какой процент слов из нашего датасета не знаком библиотеке Navec.\n",
    "\n",
    "\n",
    "unique_words = set(\" \".join(df.full_description).split(' '))\n",
    "\n",
    "cnt = 0\n",
    "for word in unique_words:\n",
    "    if word not in navec:\n",
    "        cnt+=1\n",
    "print( (cnt/len(unique_words))*100 )   "
   ]
  },
  {
   "cell_type": "code",
   "execution_count": 203,
   "id": "c634d59d",
   "metadata": {
    "scrolled": true
   },
   "outputs": [],
   "source": [
    "# Уберём все неизвестные для Navec слова из описаний объектов из запишем это в колонку ready_to_embed.\n",
    "\n",
    "def embedding_condition(sent):\n",
    "    sent = sent.split(' ')\n",
    "    for word in sent:\n",
    "        if word not in navec:\n",
    "            sent.remove(word)\n",
    "    \" \".join(sent)       \n",
    "    return sent\n",
    "\n",
    "good_words = list(map(lambda x: embedding_condition(x), df.full_description.to_numpy()))\n",
    "\n",
    "df['ready_to_embed'] = pd.Series(good_words)"
   ]
  },
  {
   "cell_type": "code",
   "execution_count": 204,
   "id": "c8880788",
   "metadata": {},
   "outputs": [],
   "source": [
    "def sent2vec(sent, embedder):\n",
    "    sent_embedding = np.zeros(embedder.pq.dim)\n",
    "    for word in sent:\n",
    "        if word in embedder:\n",
    "            sent_embedding += embedder[word]\n",
    "    return sent_embedding\n",
    "\n",
    "embeddings = list(map(lambda x: sent2vec(x, navec), df.ready_to_embed ) )\n",
    "\n",
    "df['embeddings'] = embeddings"
   ]
  },
  {
   "cell_type": "code",
   "execution_count": 205,
   "id": "767fb528",
   "metadata": {},
   "outputs": [],
   "source": [
    "# Создаём словарь с нумерацией функций 1 уровня\n",
    "func_1_classes = {}\n",
    "for num, function in enumerate( df.func_1.unique() ):\n",
    "    func_1_classes[function] = num"
   ]
  },
  {
   "cell_type": "code",
   "execution_count": 206,
   "id": "34efd08f",
   "metadata": {},
   "outputs": [],
   "source": [
    "embeddings_df = pd.DataFrame(df['embeddings'].tolist()).to_numpy()"
   ]
  },
  {
   "cell_type": "code",
   "execution_count": 207,
   "id": "91cf1174",
   "metadata": {},
   "outputs": [],
   "source": [
    "labels_df = df.func_1.to_numpy()"
   ]
  },
  {
   "cell_type": "code",
   "execution_count": 208,
   "id": "51cb55b8",
   "metadata": {},
   "outputs": [],
   "source": [
    "#df.to_csv('Ready_to_use_data_embeddings')"
   ]
  },
  {
   "cell_type": "code",
   "execution_count": 209,
   "id": "334eb89a",
   "metadata": {
    "scrolled": true
   },
   "outputs": [
    {
     "name": "stdout",
     "output_type": "stream",
     "text": [
      "(11211, 300)\n",
      "(11211,)\n"
     ]
    }
   ],
   "source": [
    "print(embeddings_df.shape)\n",
    "print(labels_df.shape)"
   ]
  },
  {
   "cell_type": "code",
   "execution_count": 210,
   "id": "3e66305f",
   "metadata": {},
   "outputs": [],
   "source": [
    "from sklearn.model_selection import train_test_split\n",
    "from sklearn.metrics import accuracy_score\n",
    "from sklearn import svm\n",
    "from sklearn.linear_model import LogisticRegression, SGDClassifier"
   ]
  },
  {
   "cell_type": "code",
   "execution_count": 211,
   "id": "d6c72358",
   "metadata": {},
   "outputs": [
    {
     "data": {
      "text/plain": [
       "((8968, 300), (2243, 300), (8968,), (2243,))"
      ]
     },
     "execution_count": 211,
     "metadata": {},
     "output_type": "execute_result"
    }
   ],
   "source": [
    "# В качестве признаков выступает векторизованное описание, в качестве лейблов выступают функции 1 уровня.\n",
    "X_train, X_test, y_train, y_test = train_test_split(embeddings_df, labels_df, test_size=0.2,\\\n",
    "                                                    random_state=0, shuffle=True)\n",
    "\n",
    "X_train.shape, X_test.shape, y_train.shape, y_test.shape"
   ]
  },
  {
   "cell_type": "markdown",
   "id": "fa5f84ec",
   "metadata": {},
   "source": [
    "##### LogReg"
   ]
  },
  {
   "cell_type": "code",
   "execution_count": 182,
   "id": "1a8f67a0",
   "metadata": {},
   "outputs": [
    {
     "name": "stdout",
     "output_type": "stream",
     "text": [
      "Точность Логистической регрессии:0.734284440481498\n"
     ]
    },
    {
     "name": "stderr",
     "output_type": "stream",
     "text": [
      "/home/daniil/anaconda3/lib/python3.11/site-packages/sklearn/linear_model/_logistic.py:458: ConvergenceWarning: lbfgs failed to converge (status=1):\n",
      "STOP: TOTAL NO. of ITERATIONS REACHED LIMIT.\n",
      "\n",
      "Increase the number of iterations (max_iter) or scale the data as shown in:\n",
      "    https://scikit-learn.org/stable/modules/preprocessing.html\n",
      "Please also refer to the documentation for alternative solver options:\n",
      "    https://scikit-learn.org/stable/modules/linear_model.html#logistic-regression\n",
      "  n_iter_i = _check_optimize_result(\n"
     ]
    }
   ],
   "source": [
    "model = LogisticRegression(penalty='l2', n_jobs=-1, solver='lbfgs')\n",
    "model.fit(X_train, y_train)\n",
    "\n",
    "predictions = model.predict(X_test)\n",
    "acc = accuracy_score(predictions, y_test)\n",
    "\n",
    "print(f'Точность Логистической регрессии:{acc}')"
   ]
  },
  {
   "cell_type": "markdown",
   "id": "c127e790",
   "metadata": {},
   "source": [
    "##### SGDClassifier"
   ]
  },
  {
   "cell_type": "code",
   "execution_count": 187,
   "id": "ca3104b0",
   "metadata": {},
   "outputs": [
    {
     "name": "stdout",
     "output_type": "stream",
     "text": [
      "Точность SGDClassifier:0.6937137761925992\n"
     ]
    }
   ],
   "source": [
    "model = SGDClassifier(loss='hinge', alpha=0.0001, max_iter=500, n_jobs=-1)\n",
    "model.fit(X_train, y_train)\n",
    "\n",
    "predictions = model.predict(X_test)\n",
    "acc = accuracy_score(predictions, y_test)\n",
    "\n",
    "print(f'Точность SGDClassifier:{acc}')"
   ]
  },
  {
   "cell_type": "markdown",
   "id": "35d8b722",
   "metadata": {},
   "source": [
    "##### LinearSVC"
   ]
  },
  {
   "cell_type": "code",
   "execution_count": 188,
   "id": "05d4ca29",
   "metadata": {},
   "outputs": [
    {
     "name": "stdout",
     "output_type": "stream",
     "text": [
      "Точность LinearSVC:0.7547926883637985\n"
     ]
    },
    {
     "name": "stderr",
     "output_type": "stream",
     "text": [
      "/home/daniil/anaconda3/lib/python3.11/site-packages/sklearn/svm/_base.py:1244: ConvergenceWarning: Liblinear failed to converge, increase the number of iterations.\n",
      "  warnings.warn(\n"
     ]
    }
   ],
   "source": [
    "model = svm.LinearSVC(loss='squared_hinge', multi_class='ovr')\n",
    "model.fit(X_train, y_train)\n",
    "\n",
    "predictions = model.predict(X_test)\n",
    "acc = accuracy_score(predictions, y_test)\n",
    "\n",
    "print(f'Точность LinearSVC:{acc}')"
   ]
  },
  {
   "cell_type": "markdown",
   "id": "3cc3cb72",
   "metadata": {},
   "source": [
    "##### SVC"
   ]
  },
  {
   "cell_type": "code",
   "execution_count": 189,
   "id": "1589377b",
   "metadata": {},
   "outputs": [
    {
     "name": "stdout",
     "output_type": "stream",
     "text": [
      "Точность SVC c rbf ядром:0.683459652251449\n"
     ]
    }
   ],
   "source": [
    "model = svm.SVC( kernel='rbf')\n",
    "model.fit(X_train, y_train)\n",
    "\n",
    "predictions = model.predict(X_test)\n",
    "acc = accuracy_score(predictions, y_test)\n",
    "\n",
    "print(f'Точность SVC c rbf ядром:{acc}')"
   ]
  }
 ],
 "metadata": {
  "kernelspec": {
   "display_name": "Python 3 (ipykernel)",
   "language": "python",
   "name": "python3"
  },
  "language_info": {
   "codemirror_mode": {
    "name": "ipython",
    "version": 3
   },
   "file_extension": ".py",
   "mimetype": "text/x-python",
   "name": "python",
   "nbconvert_exporter": "python",
   "pygments_lexer": "ipython3",
   "version": "3.11.3"
  }
 },
 "nbformat": 4,
 "nbformat_minor": 5
}
