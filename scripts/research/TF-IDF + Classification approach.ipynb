{
 "cells": [
  {
   "cell_type": "code",
   "execution_count": 1,
   "id": "02dddf89",
   "metadata": {},
   "outputs": [],
   "source": [
    "import pandas as pd\n",
    "import numpy as np"
   ]
  },
  {
   "cell_type": "code",
   "execution_count": 2,
   "id": "1da3850f",
   "metadata": {},
   "outputs": [],
   "source": [
    "# df = pd.read_csv('/home/daniil/Рабочий стол/CLASSIFICATION PROBLEM/JobMatchRecommenderSystem/Scripts/Ready_to_use_data').fillna(' ')\n",
    "# df = df.iloc[np.where((df.department != ' ') & (df.unit != ' '))]"
   ]
  },
  {
   "cell_type": "code",
   "execution_count": 2,
   "id": "1ce2f1f7",
   "metadata": {},
   "outputs": [],
   "source": [
    "df = pd.read_excel('/home/daniil/Рабочий стол/CLASSIFICATION PROBLEM/JobMatchRecommenderSystem/Scripts/train_data_05-03.xlsx').fillna(' ')\n",
    "df = df.iloc[np.where((df.client_department != ' ') & (df.client_unit != ' '))]"
   ]
  },
  {
   "cell_type": "code",
   "execution_count": 9,
   "id": "e28d83cd",
   "metadata": {},
   "outputs": [
    {
     "data": {
      "text/plain": [
       "1545"
      ]
     },
     "execution_count": 9,
     "metadata": {},
     "output_type": "execute_result"
    }
   ],
   "source": [
    "df.catalogue_code.nunique()"
   ]
  },
  {
   "cell_type": "code",
   "execution_count": 91,
   "id": "f8877582",
   "metadata": {},
   "outputs": [],
   "source": [
    "# Создаём словарь с нумерацией функций 1 уровня\n",
    "func_1_classes = {}\n",
    "for num, function in enumerate( df.func_1.unique() ):\n",
    "    func_1_classes[function] = num"
   ]
  },
  {
   "cell_type": "code",
   "execution_count": 99,
   "id": "a13d3860",
   "metadata": {},
   "outputs": [],
   "source": [
    "# Отбираем описание и класс(func_1) для дальнейшей обработки\n",
    "data = df[['full_description','func_1']].to_numpy()"
   ]
  },
  {
   "cell_type": "markdown",
   "id": "2b620cc8",
   "metadata": {},
   "source": [
    "#### TF-IDF(напоминание)"
   ]
  },
  {
   "cell_type": "markdown",
   "id": "3be31acb",
   "metadata": {},
   "source": [
    "https://s1.hostingkartinok.com/uploads/images/2024/01/17e222c8f02e0e6bd647c87cc8c93eba.jpg"
   ]
  },
  {
   "cell_type": "code",
   "execution_count": 100,
   "id": "e524b58c",
   "metadata": {},
   "outputs": [],
   "source": [
    "from sklearn.feature_extraction.text import TfidfVectorizer"
   ]
  },
  {
   "cell_type": "markdown",
   "id": "ab765e6e",
   "metadata": {},
   "source": [
    "#### Некоторые параметры: \n",
    "* input : string {‘filename’, ‘file’, ‘content’}\n",
    "*  lowercase : boolean, default True\n",
    "*  preprocessor : callable or None (default)\n",
    "*  tokenizer : callable or None (default)\n",
    "*  stop_words : string {‘english’}, list, or None (default)\n",
    "*  ngram_range : tuple (min_n, max_n)\n",
    "*  max_df : float in range [0.0, 1.0] or int, default=1.0\n",
    "*  min_df : float in range [0.0, 1.0] or int, default=1\n",
    "*  max_features : int or None, default=None"
   ]
  },
  {
   "cell_type": "code",
   "execution_count": 101,
   "id": "14d9a71c",
   "metadata": {
    "scrolled": true
   },
   "outputs": [
    {
     "data": {
      "text/plain": [
       "(11030, 1479)"
      ]
     },
     "execution_count": 101,
     "metadata": {},
     "output_type": "execute_result"
    }
   ],
   "source": [
    "# Примняем TF-IDF. Получаемая матрица по строкам соответствует кол-ву наблюдений \n",
    "# и размерности словаря по столбцам.\n",
    "vectorizer = TfidfVectorizer() \n",
    "vectors = vectorizer.fit_transform(data[:,0])\n",
    "\n",
    "\n",
    "# Вместо текста вставляем векторизацию посредством TF IDF\n",
    "vectors = np.array(vectors.todense())\n",
    "vectors.shape"
   ]
  },
  {
   "cell_type": "code",
   "execution_count": 102,
   "id": "e3447a95",
   "metadata": {},
   "outputs": [
    {
     "data": {
      "text/plain": [
       "((8824, 1479), (2206, 1479), (8824,), (2206,))"
      ]
     },
     "execution_count": 102,
     "metadata": {},
     "output_type": "execute_result"
    }
   ],
   "source": [
    "from sklearn.model_selection import train_test_split\n",
    "from sklearn.metrics import accuracy_score\n",
    "from sklearn import svm\n",
    "from sklearn.linear_model import LogisticRegression, SGDClassifier\n",
    "\n",
    "# В качестве признаков выступает векторизованное описание, в качестве лейблов выступают функции 1 уровня.\n",
    "X_train, X_test, y_train, y_test = train_test_split(vectors, data[:,1], test_size=0.2,\\\n",
    "                                                    random_state=0, shuffle=True)\n",
    "\n",
    "X_train.shape, X_test.shape, y_train.shape, y_test.shape"
   ]
  },
  {
   "cell_type": "markdown",
   "id": "11d62c80",
   "metadata": {},
   "source": [
    "##### LogReg"
   ]
  },
  {
   "cell_type": "code",
   "execution_count": 103,
   "id": "7eda3d2f",
   "metadata": {},
   "outputs": [
    {
     "name": "stdout",
     "output_type": "stream",
     "text": [
      "Точность Логистической регрессии:0.756572982774252\n"
     ]
    },
    {
     "name": "stderr",
     "output_type": "stream",
     "text": [
      "/home/daniil/anaconda3/lib/python3.11/site-packages/sklearn/linear_model/_logistic.py:458: ConvergenceWarning: lbfgs failed to converge (status=1):\n",
      "STOP: TOTAL NO. of ITERATIONS REACHED LIMIT.\n",
      "\n",
      "Increase the number of iterations (max_iter) or scale the data as shown in:\n",
      "    https://scikit-learn.org/stable/modules/preprocessing.html\n",
      "Please also refer to the documentation for alternative solver options:\n",
      "    https://scikit-learn.org/stable/modules/linear_model.html#logistic-regression\n",
      "  n_iter_i = _check_optimize_result(\n"
     ]
    }
   ],
   "source": [
    "model = LogisticRegression(penalty='l2', n_jobs=-1, solver='lbfgs')\n",
    "model.fit(X_train, y_train)\n",
    "\n",
    "predictions = model.predict(X_test)\n",
    "acc = accuracy_score(predictions, y_test)\n",
    "\n",
    "print(f'Точность Логистической регрессии:{acc}')"
   ]
  },
  {
   "cell_type": "markdown",
   "id": "e06f4565",
   "metadata": {},
   "source": [
    "##### SGDClassifier"
   ]
  },
  {
   "cell_type": "code",
   "execution_count": 104,
   "id": "f53772a5",
   "metadata": {},
   "outputs": [
    {
     "name": "stdout",
     "output_type": "stream",
     "text": [
      "Точность Логистической регрессии:0.7778785131459656\n"
     ]
    }
   ],
   "source": [
    "model = SGDClassifier(loss='hinge', alpha=0.0001, max_iter=500, n_jobs=-1)\n",
    "model.fit(X_train, y_train)\n",
    "\n",
    "predictions = model.predict(X_test)\n",
    "acc = accuracy_score(predictions, y_test)\n",
    "\n",
    "print(f'Точность Логистической регрессии:{acc}')"
   ]
  },
  {
   "cell_type": "markdown",
   "id": "90fec0cb",
   "metadata": {},
   "source": [
    "##### LinearSVC"
   ]
  },
  {
   "cell_type": "code",
   "execution_count": 105,
   "id": "e8013200",
   "metadata": {},
   "outputs": [
    {
     "name": "stdout",
     "output_type": "stream",
     "text": [
      "Точность Логистической регрессии:0.7973708068902992\n"
     ]
    }
   ],
   "source": [
    "model = svm.LinearSVC(loss='squared_hinge', multi_class='ovr')\n",
    "model.fit(X_train, y_train)\n",
    "\n",
    "predictions = model.predict(X_test)\n",
    "acc = accuracy_score(predictions, y_test)\n",
    "\n",
    "print(f'Точность Логистической регрессии:{acc}')"
   ]
  },
  {
   "cell_type": "markdown",
   "id": "19c70a7b",
   "metadata": {},
   "source": [
    "##### SVC"
   ]
  },
  {
   "cell_type": "code",
   "execution_count": 106,
   "id": "17e449f6",
   "metadata": {
    "scrolled": true
   },
   "outputs": [
    {
     "name": "stdout",
     "output_type": "stream",
     "text": [
      "Точность Логистической регрессии:0.8209428830462375\n"
     ]
    }
   ],
   "source": [
    "model = svm.SVC( kernel='rbf')\n",
    "model.fit(X_train, y_train)\n",
    "\n",
    "predictions = model.predict(X_test)\n",
    "acc = accuracy_score(predictions, y_test)\n",
    "\n",
    "print(f'Точность Логистической регрессии:{acc}')"
   ]
  },
  {
   "cell_type": "markdown",
   "id": "0f0749c1",
   "metadata": {},
   "source": [
    "# Вторая чать эксперимента: разобъём объекты по группам в зависимости от функций 1 уровня и для каждого из них натрпнируем классификатор."
   ]
  },
  {
   "cell_type": "code",
   "execution_count": 4,
   "id": "5b73cec9",
   "metadata": {},
   "outputs": [
    {
     "data": {
      "text/html": [
       "<div>\n",
       "<style scoped>\n",
       "    .dataframe tbody tr th:only-of-type {\n",
       "        vertical-align: middle;\n",
       "    }\n",
       "\n",
       "    .dataframe tbody tr th {\n",
       "        vertical-align: top;\n",
       "    }\n",
       "\n",
       "    .dataframe thead th {\n",
       "        text-align: right;\n",
       "    }\n",
       "</style>\n",
       "<table border=\"1\" class=\"dataframe\">\n",
       "  <thead>\n",
       "    <tr style=\"text-align: right;\">\n",
       "      <th></th>\n",
       "      <th>client_department</th>\n",
       "      <th>client_unit</th>\n",
       "      <th>client_job_name</th>\n",
       "      <th>full_description</th>\n",
       "      <th>catalogue_code</th>\n",
       "      <th>func_1</th>\n",
       "      <th>func_2</th>\n",
       "      <th>func_3</th>\n",
       "    </tr>\n",
       "  </thead>\n",
       "  <tbody>\n",
       "    <tr>\n",
       "      <th>0</th>\n",
       "      <td>маркетинг дизайн и онлайн продажи</td>\n",
       "      <td>департамент онлайн продаж</td>\n",
       "      <td>руководитель департамента</td>\n",
       "      <td>маркетинг дизайн и онлайн продаж департамент р...</td>\n",
       "      <td>MAR_E_20_3</td>\n",
       "      <td>Маркетинг</td>\n",
       "      <td>Электронная коммерция</td>\n",
       "      <td>Электронная коммерция</td>\n",
       "    </tr>\n",
       "    <tr>\n",
       "      <th>2</th>\n",
       "      <td>управление крупным частным капиталом</td>\n",
       "      <td>департамент по управлению крупным частным капи...</td>\n",
       "      <td>руководитель департамента</td>\n",
       "      <td>управлен крупн частн капитал департамент по ру...</td>\n",
       "      <td>IB_M_1_3</td>\n",
       "      <td>Инвестиционная деятельность</td>\n",
       "      <td>Общее управление функцией</td>\n",
       "      <td>Общее управление функцией</td>\n",
       "    </tr>\n",
       "    <tr>\n",
       "      <th>3</th>\n",
       "      <td>крупный корпоративный и инвестиционный бизнес</td>\n",
       "      <td>департамент по работе с крупными корпоративным...</td>\n",
       "      <td>старший вице президент руководитель департамента</td>\n",
       "      <td>крупн корпоративн и инвестицион бизнес департа...</td>\n",
       "      <td>CB_M_1_3</td>\n",
       "      <td>Корпоративный бизнес</td>\n",
       "      <td>Общее управление функцией</td>\n",
       "      <td>Общее управление функцией</td>\n",
       "    </tr>\n",
       "    <tr>\n",
       "      <th>4</th>\n",
       "      <td>управление рисками</td>\n",
       "      <td>департамент рисков розничного и малого бизнеса</td>\n",
       "      <td>руководитель департамента</td>\n",
       "      <td>управлен риск департамент розничн и мал бизнес...</td>\n",
       "      <td>R_M_1_3</td>\n",
       "      <td>Управление рисками</td>\n",
       "      <td>Общее управление функцией</td>\n",
       "      <td>Общее управление функцией</td>\n",
       "    </tr>\n",
       "    <tr>\n",
       "      <th>5</th>\n",
       "      <td>малый и микро корпоративный бизнес</td>\n",
       "      <td>департамент продаж и развития малого и микроби...</td>\n",
       "      <td>старший вице президент руководитель департамента</td>\n",
       "      <td>мал и микр корпоративн бизнес департамент прод...</td>\n",
       "      <td>CB_M_1_3</td>\n",
       "      <td>Корпоративный бизнес</td>\n",
       "      <td>Общее управление функцией</td>\n",
       "      <td>Общее управление функцией</td>\n",
       "    </tr>\n",
       "  </tbody>\n",
       "</table>\n",
       "</div>"
      ],
      "text/plain": [
       "                               client_department  \\\n",
       "0              маркетинг дизайн и онлайн продажи   \n",
       "2           управление крупным частным капиталом   \n",
       "3  крупный корпоративный и инвестиционный бизнес   \n",
       "4                             управление рисками   \n",
       "5             малый и микро корпоративный бизнес   \n",
       "\n",
       "                                         client_unit  \\\n",
       "0                          департамент онлайн продаж   \n",
       "2  департамент по управлению крупным частным капи...   \n",
       "3  департамент по работе с крупными корпоративным...   \n",
       "4     департамент рисков розничного и малого бизнеса   \n",
       "5  департамент продаж и развития малого и микроби...   \n",
       "\n",
       "                                    client_job_name  \\\n",
       "0                         руководитель департамента   \n",
       "2                         руководитель департамента   \n",
       "3  старший вице президент руководитель департамента   \n",
       "4                         руководитель департамента   \n",
       "5  старший вице президент руководитель департамента   \n",
       "\n",
       "                                    full_description catalogue_code  \\\n",
       "0  маркетинг дизайн и онлайн продаж департамент р...     MAR_E_20_3   \n",
       "2  управлен крупн частн капитал департамент по ру...       IB_M_1_3   \n",
       "3  крупн корпоративн и инвестицион бизнес департа...       CB_M_1_3   \n",
       "4  управлен риск департамент розничн и мал бизнес...        R_M_1_3   \n",
       "5  мал и микр корпоративн бизнес департамент прод...       CB_M_1_3   \n",
       "\n",
       "                        func_1                      func_2  \\\n",
       "0                    Маркетинг       Электронная коммерция   \n",
       "2  Инвестиционная деятельность   Общее управление функцией   \n",
       "3         Корпоративный бизнес  Общее управление функцией    \n",
       "4           Управление рисками  Общее управление функцией    \n",
       "5         Корпоративный бизнес  Общее управление функцией    \n",
       "\n",
       "                       func_3  \n",
       "0       Электронная коммерция  \n",
       "2   Общее управление функцией  \n",
       "3  Общее управление функцией   \n",
       "4  Общее управление функцией   \n",
       "5  Общее управление функцией   "
      ]
     },
     "execution_count": 4,
     "metadata": {},
     "output_type": "execute_result"
    }
   ],
   "source": [
    "df.head()"
   ]
  },
  {
   "cell_type": "code",
   "execution_count": 29,
   "id": "c147f22d",
   "metadata": {
    "scrolled": true
   },
   "outputs": [
    {
     "name": "stdout",
     "output_type": "stream",
     "text": [
      "Наблюдений для данной функции 1 уровня: 564\n",
      "Кол-во уникальных кодов для данной группы: 10\n",
      "Точность Логистической регрессии:0.7787610619469026\n",
      "--------------------------------------\n",
      "Наблюдений для данной функции 1 уровня: 29\n",
      "Кол-во уникальных кодов для данной группы: 2\n",
      "Точность Логистической регрессии:1.0\n",
      "--------------------------------------\n",
      "Наблюдений для данной функции 1 уровня: 1196\n",
      "Кол-во уникальных кодов для данной группы: 7\n",
      "Точность Логистической регрессии:0.9208333333333333\n",
      "--------------------------------------\n",
      "Наблюдений для данной функции 1 уровня: 252\n",
      "Кол-во уникальных кодов для данной группы: 5\n",
      "Точность Логистической регрессии:0.8627450980392157\n",
      "--------------------------------------\n",
      "Наблюдений для данной функции 1 уровня: 1352\n",
      "Кол-во уникальных кодов для данной группы: 7\n",
      "Точность Логистической регрессии:0.8265682656826568\n",
      "--------------------------------------\n",
      "Наблюдений для данной функции 1 уровня: 134\n",
      "Кол-во уникальных кодов для данной группы: 3\n",
      "Точность Логистической регрессии:0.9629629629629629\n",
      "--------------------------------------\n",
      "Наблюдений для данной функции 1 уровня: 174\n",
      "Кол-во уникальных кодов для данной группы: 4\n",
      "Точность Логистической регрессии:0.8857142857142857\n",
      "--------------------------------------\n",
      "Наблюдений для данной функции 1 уровня: 330\n",
      "Кол-во уникальных кодов для данной группы: 4\n",
      "Точность Логистической регрессии:0.8181818181818182\n",
      "--------------------------------------\n",
      "Наблюдений для данной функции 1 уровня: 175\n",
      "Кол-во уникальных кодов для данной группы: 6\n",
      "Точность Логистической регрессии:0.8571428571428571\n",
      "--------------------------------------\n",
      "Наблюдений для данной функции 1 уровня: 111\n",
      "Кол-во уникальных кодов для данной группы: 2\n",
      "Точность Логистической регрессии:0.8695652173913043\n",
      "--------------------------------------\n",
      "Наблюдений для данной функции 1 уровня: 151\n",
      "Кол-во уникальных кодов для данной группы: 6\n",
      "Точность Логистической регрессии:0.7096774193548387\n",
      "--------------------------------------\n",
      "Наблюдений для данной функции 1 уровня: 135\n",
      "Кол-во уникальных кодов для данной группы: 4\n",
      "Точность Логистической регрессии:0.9259259259259259\n",
      "--------------------------------------\n",
      "Наблюдений для данной функции 1 уровня: 343\n",
      "Кол-во уникальных кодов для данной группы: 7\n",
      "Точность Логистической регрессии:0.7246376811594203\n",
      "--------------------------------------\n",
      "Наблюдений для данной функции 1 уровня: 567\n",
      "Кол-во уникальных кодов для данной группы: 7\n",
      "Точность Логистической регрессии:0.9122807017543859\n",
      "--------------------------------------\n",
      "Наблюдений для данной функции 1 уровня: 1345\n",
      "Кол-во уникальных кодов для данной группы: 11\n",
      "Точность Логистической регрессии:0.7695167286245354\n",
      "--------------------------------------\n",
      "Наблюдений для данной функции 1 уровня: 407\n",
      "Кол-во уникальных кодов для данной группы: 9\n",
      "Точность Логистической регрессии:0.8292682926829268\n",
      "--------------------------------------\n",
      "Наблюдений для данной функции 1 уровня: 176\n",
      "Кол-во уникальных кодов для данной группы: 3\n",
      "Точность Логистической регрессии:0.8333333333333334\n",
      "--------------------------------------\n",
      "Наблюдений для данной функции 1 уровня: 327\n",
      "Кол-во уникальных кодов для данной группы: 9\n",
      "Точность Логистической регрессии:0.8484848484848485\n",
      "--------------------------------------\n",
      "Наблюдений для данной функции 1 уровня: 10\n",
      "Кол-во уникальных кодов для данной группы: 1\n",
      "Наблюдений для данной функции 1 уровня: 404\n",
      "Кол-во уникальных кодов для данной группы: 8\n",
      "Точность Логистической регрессии:0.8888888888888888\n",
      "--------------------------------------\n",
      "Наблюдений для данной функции 1 уровня: 355\n",
      "Кол-во уникальных кодов для данной группы: 8\n",
      "Точность Логистической регрессии:0.8169014084507042\n",
      "--------------------------------------\n",
      "Наблюдений для данной функции 1 уровня: 268\n",
      "Кол-во уникальных кодов для данной группы: 8\n",
      "Точность Логистической регрессии:0.8518518518518519\n",
      "--------------------------------------\n",
      "Наблюдений для данной функции 1 уровня: 495\n",
      "Кол-во уникальных кодов для данной группы: 4\n",
      "Точность Логистической регрессии:0.9090909090909091\n",
      "--------------------------------------\n",
      "Наблюдений для данной функции 1 уровня: 252\n",
      "Кол-во уникальных кодов для данной группы: 8\n",
      "Точность Логистической регрессии:0.7647058823529411\n",
      "--------------------------------------\n",
      "Наблюдений для данной функции 1 уровня: 50\n",
      "Кол-во уникальных кодов для данной группы: 6\n",
      "Точность Логистической регрессии:1.0\n",
      "--------------------------------------\n",
      "Наблюдений для данной функции 1 уровня: 195\n",
      "Кол-во уникальных кодов для данной группы: 1\n",
      "Наблюдений для данной функции 1 уровня: 145\n",
      "Кол-во уникальных кодов для данной группы: 3\n",
      "Точность Логистической регрессии:1.0\n",
      "--------------------------------------\n",
      "Наблюдений для данной функции 1 уровня: 243\n",
      "Кол-во уникальных кодов для данной группы: 3\n",
      "Точность Логистической регрессии:0.9795918367346939\n",
      "--------------------------------------\n",
      "Наблюдений для данной функции 1 уровня: 45\n",
      "Кол-во уникальных кодов для данной группы: 2\n",
      "Точность Логистической регрессии:1.0\n",
      "--------------------------------------\n",
      "Наблюдений для данной функции 1 уровня: 104\n",
      "Кол-во уникальных кодов для данной группы: 6\n",
      "Точность Логистической регрессии:0.8571428571428571\n",
      "--------------------------------------\n",
      "Наблюдений для данной функции 1 уровня: 23\n",
      "Кол-во уникальных кодов для данной группы: 3\n",
      "Точность Логистической регрессии:0.8\n",
      "--------------------------------------\n",
      "Наблюдений для данной функции 1 уровня: 62\n",
      "Кол-во уникальных кодов для данной группы: 3\n",
      "Точность Логистической регрессии:0.46153846153846156\n",
      "--------------------------------------\n",
      "Наблюдений для данной функции 1 уровня: 6\n",
      "Кол-во уникальных кодов для данной группы: 1\n",
      "Наблюдений для данной функции 1 уровня: 125\n",
      "Кол-во уникальных кодов для данной группы: 4\n",
      "Точность Логистической регрессии:0.92\n",
      "--------------------------------------\n",
      "Наблюдений для данной функции 1 уровня: 17\n",
      "Кол-во уникальных кодов для данной группы: 3\n",
      "Точность Логистической регрессии:0.75\n",
      "--------------------------------------\n",
      "Наблюдений для данной функции 1 уровня: 33\n",
      "Кол-во уникальных кодов для данной группы: 4\n",
      "Точность Логистической регрессии:0.8571428571428571\n",
      "--------------------------------------\n",
      "Наблюдений для данной функции 1 уровня: 91\n",
      "Кол-во уникальных кодов для данной группы: 5\n",
      "Точность Логистической регрессии:0.8421052631578947\n",
      "--------------------------------------\n",
      "Наблюдений для данной функции 1 уровня: 32\n",
      "Кол-во уникальных кодов для данной группы: 1\n",
      "Наблюдений для данной функции 1 уровня: 21\n",
      "Кол-во уникальных кодов для данной группы: 3\n",
      "Точность Логистической регрессии:1.0\n",
      "--------------------------------------\n",
      "Наблюдений для данной функции 1 уровня: 12\n",
      "Кол-во уникальных кодов для данной группы: 2\n",
      "Точность Логистической регрессии:0.6666666666666666\n",
      "--------------------------------------\n",
      "Наблюдений для данной функции 1 уровня: 30\n",
      "Кол-во уникальных кодов для данной группы: 3\n",
      "Точность Логистической регрессии:0.8333333333333334\n",
      "--------------------------------------\n",
      "Наблюдений для данной функции 1 уровня: 36\n",
      "Кол-во уникальных кодов для данной группы: 3\n",
      "Точность Логистической регрессии:0.875\n",
      "--------------------------------------\n",
      "Наблюдений для данной функции 1 уровня: 158\n",
      "Кол-во уникальных кодов для данной группы: 5\n",
      "Точность Логистической регрессии:0.75\n",
      "--------------------------------------\n",
      "Наблюдений для данной функции 1 уровня: 6\n",
      "Кол-во уникальных кодов для данной группы: 1\n",
      "Наблюдений для данной функции 1 уровня: 11\n",
      "Кол-во уникальных кодов для данной группы: 2\n",
      "Точность Логистической регрессии:1.0\n",
      "--------------------------------------\n",
      "Наблюдений для данной функции 1 уровня: 7\n",
      "Кол-во уникальных кодов для данной группы: 2\n"
     ]
    },
    {
     "ename": "ValueError",
     "evalue": "The number of classes has to be greater than one; got 1 class",
     "output_type": "error",
     "traceback": [
      "\u001b[0;31m---------------------------------------------------------------------------\u001b[0m",
      "\u001b[0;31mValueError\u001b[0m                                Traceback (most recent call last)",
      "Cell \u001b[0;32mIn[29], line 18\u001b[0m\n\u001b[1;32m     15\u001b[0m X_train, X_test, y_train, y_test \u001b[38;5;241m=\u001b[39m train_test_split(vectors, data[:,\u001b[38;5;241m1\u001b[39m], test_size\u001b[38;5;241m=\u001b[39m\u001b[38;5;241m0.2\u001b[39m,\\\n\u001b[1;32m     16\u001b[0m                                                 random_state\u001b[38;5;241m=\u001b[39m\u001b[38;5;241m0\u001b[39m, shuffle\u001b[38;5;241m=\u001b[39m\u001b[38;5;28;01mTrue\u001b[39;00m)\n\u001b[1;32m     17\u001b[0m model \u001b[38;5;241m=\u001b[39m svm\u001b[38;5;241m.\u001b[39mSVC( kernel\u001b[38;5;241m=\u001b[39m\u001b[38;5;124m'\u001b[39m\u001b[38;5;124mrbf\u001b[39m\u001b[38;5;124m'\u001b[39m)\n\u001b[0;32m---> 18\u001b[0m model\u001b[38;5;241m.\u001b[39mfit(X_train, y_train)\n\u001b[1;32m     20\u001b[0m predictions \u001b[38;5;241m=\u001b[39m model\u001b[38;5;241m.\u001b[39mpredict(X_test)\n\u001b[1;32m     21\u001b[0m acc \u001b[38;5;241m=\u001b[39m accuracy_score(predictions, y_test)\n",
      "File \u001b[0;32m~/anaconda3/lib/python3.11/site-packages/sklearn/svm/_base.py:201\u001b[0m, in \u001b[0;36mBaseLibSVM.fit\u001b[0;34m(self, X, y, sample_weight)\u001b[0m\n\u001b[1;32m    191\u001b[0m \u001b[38;5;28;01melse\u001b[39;00m:\n\u001b[1;32m    192\u001b[0m     X, y \u001b[38;5;241m=\u001b[39m \u001b[38;5;28mself\u001b[39m\u001b[38;5;241m.\u001b[39m_validate_data(\n\u001b[1;32m    193\u001b[0m         X,\n\u001b[1;32m    194\u001b[0m         y,\n\u001b[0;32m   (...)\u001b[0m\n\u001b[1;32m    198\u001b[0m         accept_large_sparse\u001b[38;5;241m=\u001b[39m\u001b[38;5;28;01mFalse\u001b[39;00m,\n\u001b[1;32m    199\u001b[0m     )\n\u001b[0;32m--> 201\u001b[0m y \u001b[38;5;241m=\u001b[39m \u001b[38;5;28mself\u001b[39m\u001b[38;5;241m.\u001b[39m_validate_targets(y)\n\u001b[1;32m    203\u001b[0m sample_weight \u001b[38;5;241m=\u001b[39m np\u001b[38;5;241m.\u001b[39masarray(\n\u001b[1;32m    204\u001b[0m     [] \u001b[38;5;28;01mif\u001b[39;00m sample_weight \u001b[38;5;129;01mis\u001b[39;00m \u001b[38;5;28;01mNone\u001b[39;00m \u001b[38;5;28;01melse\u001b[39;00m sample_weight, dtype\u001b[38;5;241m=\u001b[39mnp\u001b[38;5;241m.\u001b[39mfloat64\n\u001b[1;32m    205\u001b[0m )\n\u001b[1;32m    206\u001b[0m solver_type \u001b[38;5;241m=\u001b[39m LIBSVM_IMPL\u001b[38;5;241m.\u001b[39mindex(\u001b[38;5;28mself\u001b[39m\u001b[38;5;241m.\u001b[39m_impl)\n",
      "File \u001b[0;32m~/anaconda3/lib/python3.11/site-packages/sklearn/svm/_base.py:749\u001b[0m, in \u001b[0;36mBaseSVC._validate_targets\u001b[0;34m(self, y)\u001b[0m\n\u001b[1;32m    747\u001b[0m \u001b[38;5;28mself\u001b[39m\u001b[38;5;241m.\u001b[39mclass_weight_ \u001b[38;5;241m=\u001b[39m compute_class_weight(\u001b[38;5;28mself\u001b[39m\u001b[38;5;241m.\u001b[39mclass_weight, classes\u001b[38;5;241m=\u001b[39m\u001b[38;5;28mcls\u001b[39m, y\u001b[38;5;241m=\u001b[39my_)\n\u001b[1;32m    748\u001b[0m \u001b[38;5;28;01mif\u001b[39;00m \u001b[38;5;28mlen\u001b[39m(\u001b[38;5;28mcls\u001b[39m) \u001b[38;5;241m<\u001b[39m \u001b[38;5;241m2\u001b[39m:\n\u001b[0;32m--> 749\u001b[0m     \u001b[38;5;28;01mraise\u001b[39;00m \u001b[38;5;167;01mValueError\u001b[39;00m(\n\u001b[1;32m    750\u001b[0m         \u001b[38;5;124m\"\u001b[39m\u001b[38;5;124mThe number of classes has to be greater than one; got \u001b[39m\u001b[38;5;132;01m%d\u001b[39;00m\u001b[38;5;124m class\u001b[39m\u001b[38;5;124m\"\u001b[39m\n\u001b[1;32m    751\u001b[0m         \u001b[38;5;241m%\u001b[39m \u001b[38;5;28mlen\u001b[39m(\u001b[38;5;28mcls\u001b[39m)\n\u001b[1;32m    752\u001b[0m     )\n\u001b[1;32m    754\u001b[0m \u001b[38;5;28mself\u001b[39m\u001b[38;5;241m.\u001b[39mclasses_ \u001b[38;5;241m=\u001b[39m \u001b[38;5;28mcls\u001b[39m\n\u001b[1;32m    756\u001b[0m \u001b[38;5;28;01mreturn\u001b[39;00m np\u001b[38;5;241m.\u001b[39masarray(y, dtype\u001b[38;5;241m=\u001b[39mnp\u001b[38;5;241m.\u001b[39mfloat64, order\u001b[38;5;241m=\u001b[39m\u001b[38;5;124m\"\u001b[39m\u001b[38;5;124mC\u001b[39m\u001b[38;5;124m\"\u001b[39m)\n",
      "\u001b[0;31mValueError\u001b[0m: The number of classes has to be greater than one; got 1 class"
     ]
    }
   ],
   "source": [
    "for func in df.func_1.unique():\n",
    "    data = df[df.func_1 == func]\n",
    "    print(f'Наблюдений для данной функции 1 уровня: {data.shape[0]}')\n",
    "    print(f'Кол-во уникальных кодов для данной группы: {data.func_2.nunique()}')\n",
    "    \n",
    "    data = data[['full_description','func_2']].to_numpy()\n",
    "    if np.all(data[:,1] == data[:,1][0]):\n",
    "        continue \n",
    "    vectorizer = TfidfVectorizer() \n",
    "    vectors = vectorizer.fit_transform(data[:,0])\n",
    "    \n",
    "\n",
    "    # Вместо текста вставляем векторизацию посредством TF IDF\n",
    "    vectors = np.array(vectors.todense())\n",
    "    X_train, X_test, y_train, y_test = train_test_split(vectors, data[:,1], test_size=0.2,\\\n",
    "                                                    random_state=0, shuffle=True)\n",
    "    model = svm.SVC( kernel='rbf')\n",
    "    model.fit(X_train, y_train)\n",
    "\n",
    "    predictions = model.predict(X_test)\n",
    "    acc = accuracy_score(predictions, y_test)\n",
    "\n",
    "    print(f'Точность Логистической регрессии:{acc}')\n",
    "    print('--------------------------------------')"
   ]
  },
  {
   "cell_type": "code",
   "execution_count": 28,
   "id": "2c591bcf",
   "metadata": {},
   "outputs": [
    {
     "data": {
      "text/plain": [
       "True"
      ]
     },
     "execution_count": 28,
     "metadata": {},
     "output_type": "execute_result"
    }
   ],
   "source": [
    "np.all(data[:,1] == data[:,1][0])"
   ]
  },
  {
   "cell_type": "code",
   "execution_count": 15,
   "id": "4fffe23e",
   "metadata": {},
   "outputs": [],
   "source": [
    "# Отбираем описание и класс(func_1) для дальнейшей обработки\n",
    "semi_data = df[df.func_1 == 'Инвестиционная деятельность']\n",
    "semi_data = semi_data[['full_description','func_2']].to_numpy()"
   ]
  },
  {
   "cell_type": "code",
   "execution_count": 16,
   "id": "0ffe76e8",
   "metadata": {},
   "outputs": [
    {
     "data": {
      "text/plain": [
       "(29, 69)"
      ]
     },
     "execution_count": 16,
     "metadata": {},
     "output_type": "execute_result"
    }
   ],
   "source": [
    "from sklearn.feature_extraction.text import TfidfVectorizer\n",
    "\n",
    "# Примняем TF-IDF. Получаемая матрица по строкам соответствует кол-ву наблюдений \n",
    "# и размерности словаря по столбцам.\n",
    "vectorizer = TfidfVectorizer() \n",
    "vectors = vectorizer.fit_transform(semi_data[:,0])\n",
    "\n",
    "\n",
    "# Вместо текста вставляем векторизацию посредством TF IDF\n",
    "vectors = np.array(vectors.todense())\n",
    "vectors.shape"
   ]
  },
  {
   "cell_type": "code",
   "execution_count": 17,
   "id": "4ee8e115",
   "metadata": {},
   "outputs": [
    {
     "data": {
      "text/plain": [
       "((23, 69), (6, 69), (23,), (6,))"
      ]
     },
     "execution_count": 17,
     "metadata": {},
     "output_type": "execute_result"
    }
   ],
   "source": [
    "from sklearn.model_selection import train_test_split\n",
    "from sklearn.metrics import accuracy_score\n",
    "from sklearn import svm\n",
    "from sklearn.linear_model import LogisticRegression, SGDClassifier\n",
    "\n",
    "# В качестве признаков выступает векторизованное описание, в качестве лейблов выступают функции 1 уровня.\n",
    "X_train, X_test, y_train, y_test = train_test_split(vectors, semi_data[:,1], test_size=0.2,\\\n",
    "                                                    random_state=0, shuffle=True)\n",
    "\n",
    "X_train.shape, X_test.shape, y_train.shape, y_test.shape"
   ]
  },
  {
   "cell_type": "code",
   "execution_count": 18,
   "id": "e65ef3ae",
   "metadata": {},
   "outputs": [
    {
     "name": "stdout",
     "output_type": "stream",
     "text": [
      "Точность Логистической регрессии:1.0\n"
     ]
    }
   ],
   "source": [
    "model = LogisticRegression(penalty='l2', n_jobs=-1, solver='lbfgs')\n",
    "model.fit(X_train, y_train)\n",
    "\n",
    "predictions = model.predict(X_test)\n",
    "acc = accuracy_score(predictions, y_test)\n",
    "\n",
    "print(f'Точность Логистической регрессии:{acc}')"
   ]
  },
  {
   "cell_type": "code",
   "execution_count": 19,
   "id": "11533a8e",
   "metadata": {},
   "outputs": [
    {
     "name": "stdout",
     "output_type": "stream",
     "text": [
      "Точность SGDClassifier:1.0\n"
     ]
    }
   ],
   "source": [
    "model = SGDClassifier(loss='hinge', alpha=0.0001, max_iter=500, n_jobs=-1)\n",
    "model.fit(X_train, y_train)\n",
    "\n",
    "predictions = model.predict(X_test)\n",
    "acc = accuracy_score(predictions, y_test)\n",
    "\n",
    "print(f'Точность SGDClassifier:{acc}')"
   ]
  },
  {
   "cell_type": "code",
   "execution_count": 20,
   "id": "c4be172c",
   "metadata": {},
   "outputs": [
    {
     "name": "stdout",
     "output_type": "stream",
     "text": [
      "Точность Логистической регрессии:1.0\n"
     ]
    }
   ],
   "source": [
    "model = svm.SVC( kernel='rbf')\n",
    "model.fit(X_train, y_train)\n",
    "\n",
    "predictions = model.predict(X_test)\n",
    "acc = accuracy_score(predictions, y_test)\n",
    "\n",
    "print(f'Точность Логистической регрессии:{acc}')"
   ]
  },
  {
   "cell_type": "code",
   "execution_count": null,
   "id": "aafcfaf7",
   "metadata": {},
   "outputs": [],
   "source": []
  },
  {
   "cell_type": "code",
   "execution_count": null,
   "id": "7b190aba",
   "metadata": {},
   "outputs": [],
   "source": []
  },
  {
   "cell_type": "code",
   "execution_count": null,
   "id": "19662fbc",
   "metadata": {},
   "outputs": [],
   "source": []
  },
  {
   "cell_type": "code",
   "execution_count": null,
   "id": "99595bd4",
   "metadata": {},
   "outputs": [],
   "source": []
  }
 ],
 "metadata": {
  "kernelspec": {
   "display_name": "Python 3 (ipykernel)",
   "language": "python",
   "name": "python3"
  },
  "language_info": {
   "codemirror_mode": {
    "name": "ipython",
    "version": 3
   },
   "file_extension": ".py",
   "mimetype": "text/x-python",
   "name": "python",
   "nbconvert_exporter": "python",
   "pygments_lexer": "ipython3",
   "version": "3.11.3"
  }
 },
 "nbformat": 4,
 "nbformat_minor": 5
}
